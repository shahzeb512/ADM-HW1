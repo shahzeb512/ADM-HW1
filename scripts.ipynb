{
 "cells": [
  {
   "cell_type": "markdown",
   "id": "19cc9bae-8274-484a-9e18-c2bfd1a388a5",
   "metadata": {},
   "source": [
    "# Problem 1"
   ]
  },
  {
   "cell_type": "markdown",
   "id": "393c7389-6a54-4d26-aee7-2cce96e9f90a",
   "metadata": {},
   "source": [
    "## Introduction"
   ]
  },
  {
   "cell_type": "markdown",
   "id": "2056a31c-7f91-4366-994f-c2745f60c224",
   "metadata": {},
   "source": [
    "### 1. Say \"Hello, World!\" With Python"
   ]
  },
  {
   "cell_type": "code",
   "execution_count": null,
   "id": "cef33792-f462-4a45-923a-2292a2c3bfd2",
   "metadata": {},
   "outputs": [],
   "source": [
    "if __name__ == '__main__':\n",
    "    print(\"Hello, World!\")"
   ]
  },
  {
   "cell_type": "markdown",
   "id": "5f083136-4c1c-4ce0-b80f-5398567b740e",
   "metadata": {},
   "source": [
    "### 2. Python If-Else "
   ]
  },
  {
   "cell_type": "code",
   "execution_count": null,
   "id": "71c12b36-f23e-4819-a8a5-97aa8f1d7946",
   "metadata": {},
   "outputs": [],
   "source": [
    "#!/bin/python3\n",
    "import math\n",
    "import os\n",
    "import random\n",
    "import re\n",
    "import sys\n",
    "\n",
    "if __name__ == '__main__':\n",
    "    n = int(input().strip())\n",
    "\n",
    "if n%2!=0:\n",
    "    print('Weird')\n",
    "elif n%2==0:\n",
    "    if n>=2 and n<=5:\n",
    "        print('Not Weird')\n",
    "    elif n>=6 and n<=20:\n",
    "        print('Weird')\n",
    "    elif n>20:\n",
    "        print('Not Weird')\n"
   ]
  },
  {
   "cell_type": "markdown",
   "id": "87103ecd-6d69-4fbc-84f0-f94d7c9c2797",
   "metadata": {},
   "source": [
    "### 3. Python: Division"
   ]
  },
  {
   "cell_type": "code",
   "execution_count": null,
   "id": "018945c9-db12-4aae-ad67-3dea3947bb0a",
   "metadata": {},
   "outputs": [],
   "source": [
    "if __name__ == '__main__':\n",
    "    a = int(input())\n",
    "    b = int(input())\n",
    "    \n",
    "    print(a//b)\n",
    "    print(a/b)"
   ]
  },
  {
   "cell_type": "markdown",
   "id": "95aa085a-0997-4603-a504-e952da579689",
   "metadata": {},
   "source": [
    "### 4. Loops"
   ]
  },
  {
   "cell_type": "code",
   "execution_count": null,
   "id": "ee85729b-5720-4c92-980b-aff6aabb5691",
   "metadata": {},
   "outputs": [],
   "source": [
    "if __name__ == '__main__':\n",
    "    n = int(input())\n",
    "    \n",
    "    for i in range(n):\n",
    "        a=pow(i,2)\n",
    "        print(a)"
   ]
  },
  {
   "cell_type": "markdown",
   "id": "5497015e-448f-43de-a244-ccaf3e6ee99b",
   "metadata": {},
   "source": [
    "### 5. Write a function"
   ]
  },
  {
   "cell_type": "code",
   "execution_count": null,
   "id": "a8a5cfe2-82ba-4846-ba06-2837b3736387",
   "metadata": {},
   "outputs": [],
   "source": [
    "def is_leap(year):\n",
    "    leap = False\n",
    "    \n",
    "    if year%4 == 0:\n",
    "        if year%100 == 0:\n",
    "            if year%400 == 0:\n",
    "                leap = True\n",
    "            else:\n",
    "                leap = False\n",
    "        else:\n",
    "            leap = True\n",
    "    else:\n",
    "        leap = False\n",
    "    \n",
    "    return leap\n",
    "\n",
    "year = int(input())\n",
    "print(is_leap(year))"
   ]
  },
  {
   "cell_type": "markdown",
   "id": "f494c086-d8f5-4dc6-b2a0-c57007d79591",
   "metadata": {},
   "source": [
    "### 6. Print Function"
   ]
  },
  {
   "cell_type": "code",
   "execution_count": null,
   "id": "d8e0059b-fff9-4fe4-80ac-c55e64b7099e",
   "metadata": {},
   "outputs": [],
   "source": [
    "if __name__ == '__main__':\n",
    "    n = int(input())\n",
    "    \n",
    "for i in range(n):\n",
    "    if i==0:\n",
    "        continue\n",
    "    else:\n",
    "        print(i,end=\"\")\n",
    "        \n",
    "print(n)"
   ]
  },
  {
   "cell_type": "markdown",
   "id": "22f48dd5-084d-4bf2-b5a7-016ac12a8967",
   "metadata": {},
   "source": [
    "### 7. Arithmetic Operators"
   ]
  },
  {
   "cell_type": "code",
   "execution_count": null,
   "id": "e5b63192-aacc-4191-9546-5ea5828b6edf",
   "metadata": {},
   "outputs": [],
   "source": [
    "if __name__ == '__main__':\n",
    "    a = int(input())\n",
    "    b = int(input())\n",
    "    \n",
    "\n",
    "    print(a+b)\n",
    "    print(a-b)\n",
    "    print(a*b)"
   ]
  },
  {
   "cell_type": "markdown",
   "id": "9d3c9300-f103-4b6e-963f-63707f269985",
   "metadata": {},
   "source": [
    "## Basic Data Types"
   ]
  },
  {
   "cell_type": "markdown",
   "id": "a0a0d759-3af5-49d2-aef8-a59ef0b3957c",
   "metadata": {},
   "source": [
    "### 1. List Comprehensions"
   ]
  },
  {
   "cell_type": "code",
   "execution_count": null,
   "id": "eb612159-b7fd-4460-9a08-8e1a4f247b65",
   "metadata": {},
   "outputs": [],
   "source": [
    "if __name__ == '__main__':\n",
    "    x = int(input())\n",
    "    y = int(input())\n",
    "    z = int(input())\n",
    "    n = int(input())\n",
    "    \n",
    "    arr=[]\n",
    "    for i in range(x+1):\n",
    "        for j in range(y+1):\n",
    "            for k in range(z+1):\n",
    "                if i+j+k!=n:\n",
    "                    arr.append([i,j,k])\n",
    "                    \n",
    "    print(arr)"
   ]
  },
  {
   "cell_type": "markdown",
   "id": "c1538a6a-7467-417a-bb36-94ead93459d4",
   "metadata": {},
   "source": [
    "### 2. Find the Runner-Up Score!"
   ]
  },
  {
   "cell_type": "code",
   "execution_count": null,
   "id": "ab32dff7-7af8-478d-8a4a-04983d00f5ea",
   "metadata": {},
   "outputs": [],
   "source": [
    "if __name__ == '__main__':\n",
    "    n = int(input())\n",
    "    arr = map(int, input().split())\n",
    "    \n",
    "    arr1=sorted(arr,reverse=True)\n",
    "    \n",
    "    for i in range(n):\n",
    "        if arr1[i]>arr1[i+1]:\n",
    "            print(arr1[i+1])\n",
    "            break"
   ]
  },
  {
   "cell_type": "markdown",
   "id": "13171747-08e3-4b1a-83b3-f632a1693e3c",
   "metadata": {},
   "source": [
    "### 3. Nested Lists"
   ]
  },
  {
   "cell_type": "code",
   "execution_count": null,
   "id": "dd453663-bdfb-40ca-b715-7dcc4c33a3f3",
   "metadata": {},
   "outputs": [],
   "source": [
    "if __name__ == '__main__':\n",
    "    \n",
    "    li=[]\n",
    "    sc=[]\n",
    "    for _ in range(int(input())):\n",
    "        name = input()\n",
    "        score = float(input())\n",
    "        li.append([name,score])\n",
    "        sc.append(score)\n",
    "     \n",
    "    sc_sort=sorted(set(sc))  \n",
    "    \n",
    "    nm=[]\n",
    "    for i in li:\n",
    "        if  sc_sort[1]==i[1]:\n",
    "            nm.append(i[0])\n",
    "    \n",
    "    nm_sort=sorted(nm)\n",
    "    \n",
    "    for i in nm_sort:\n",
    "        print(i)"
   ]
  },
  {
   "cell_type": "markdown",
   "id": "ea0f9bd9-9a9a-4c38-8623-f615641283f8",
   "metadata": {},
   "source": [
    "### 4. Finding the percentage"
   ]
  },
  {
   "cell_type": "code",
   "execution_count": null,
   "id": "ba15dc7e-f1c5-47c3-9fd0-f81d6035f478",
   "metadata": {},
   "outputs": [],
   "source": [
    "if __name__ == '__main__':\n",
    "    n = int(input())\n",
    "    student_marks = {}\n",
    "    for _ in range(n):\n",
    "        name, *line = input().split()\n",
    "        scores = list(map(float, line))\n",
    "        student_marks[name] = scores\n",
    "    query_name = input()\n",
    "    \n",
    "    n=0\n",
    "    sc=0\n",
    "    for i in student_marks[query_name]:\n",
    "        n=n+1\n",
    "        sc=sc+i\n",
    "    avg=sc/n\n",
    "    print(\"%.2f\" % avg)"
   ]
  },
  {
   "cell_type": "markdown",
   "id": "beae2abe-095a-4b20-ad65-69a3fa96d37b",
   "metadata": {},
   "source": [
    "### 5. Lists"
   ]
  },
  {
   "cell_type": "code",
   "execution_count": null,
   "id": "2afebd47-8506-4435-bc06-319a3bfce858",
   "metadata": {},
   "outputs": [],
   "source": [
    "if __name__ == '__main__':\n",
    "    N = int(input())\n",
    "    \n",
    "    li=[]\n",
    "    commands=[]\n",
    "    for i in range(N):\n",
    "        commands.append(input())   \n",
    "    \n",
    "    for i in range(N):\n",
    "        cm = commands[i].split()\n",
    "        \n",
    "        if cm[0] == 'insert':\n",
    "            li.insert(int(cm[1]),int(cm[2]))\n",
    "        elif cm[0] == 'remove':\n",
    "            li.remove(int(cm[1]))\n",
    "        elif cm[0] == 'append':\n",
    "            li.append(int(cm[1]))\n",
    "        elif cm[0] == 'sort':\n",
    "            li.sort()\n",
    "        elif cm[0] == 'pop':\n",
    "            li.pop()\n",
    "        elif cm[0] == 'reverse':\n",
    "            li.reverse()\n",
    "        elif cm[0] == 'print':\n",
    "            print(li)\n",
    "        else:\n",
    "            print('No such command available')\n",
    "        \n",
    "        cm.clear()"
   ]
  },
  {
   "cell_type": "markdown",
   "id": "9ef9df04-1f2e-4ff9-8e4d-638ee2658199",
   "metadata": {},
   "source": [
    "### 6. Tuples"
   ]
  },
  {
   "cell_type": "code",
   "execution_count": null,
   "id": "d10c284e-e0e0-4bdb-b6a7-5e3169230230",
   "metadata": {},
   "outputs": [],
   "source": [
    "if __name__ == '__main__':\n",
    "    n = int(input())\n",
    "    integer_list = map(int, input().split())\n",
    "    \n",
    "    print(hash(tuple(integer_list))) "
   ]
  },
  {
   "cell_type": "markdown",
   "id": "ec1095ce-35bf-43f1-b5d1-dbe5eea8c73d",
   "metadata": {},
   "source": [
    "## Strings"
   ]
  },
  {
   "cell_type": "markdown",
   "id": "b1032410-1c7f-4376-9f75-9d33dea752d5",
   "metadata": {},
   "source": [
    "### 1. sWAP cASE"
   ]
  },
  {
   "cell_type": "code",
   "execution_count": null,
   "id": "e37fd716-b3de-4a3a-a6ef-f1944a7419d3",
   "metadata": {},
   "outputs": [],
   "source": [
    "def swap_case(s):\n",
    "    return\n",
    "\n",
    "if __name__ == '__main__':\n",
    "    s = input()\n",
    "    result = swap_case(s)\n",
    "    print(result)"
   ]
  },
  {
   "cell_type": "markdown",
   "id": "f43449a8-630f-49bb-b0c8-ae538d98f079",
   "metadata": {},
   "source": [
    "### 2. String Split and Join"
   ]
  },
  {
   "cell_type": "code",
   "execution_count": null,
   "id": "2f98aaa2-29bf-43e6-848d-d458ac14f761",
   "metadata": {},
   "outputs": [],
   "source": [
    "def split_and_join(line):\n",
    "    line = line.split(\" \")\n",
    "    return \"-\".join(line)\n",
    "\n",
    "if __name__ == '__main__':\n",
    "    line = input()\n",
    "    result = split_and_join(line)\n",
    "    print(result)"
   ]
  },
  {
   "cell_type": "markdown",
   "id": "66367bc3-9b10-44d2-b749-747d1a119c86",
   "metadata": {},
   "source": [
    "### 3. What's Your Name?"
   ]
  },
  {
   "cell_type": "code",
   "execution_count": null,
   "id": "43996cbb-f105-403b-95f6-4c83891029d0",
   "metadata": {},
   "outputs": [],
   "source": [
    "def print_full_name(first, last):\n",
    "    print(\"Hello \"+first+\" \"+last+\"! You just delved into python.\")\n",
    "\n",
    "if __name__ == '__main__':\n",
    "    first_name = input()\n",
    "    last_name = input()\n",
    "    print_full_name(first_name, last_name)"
   ]
  },
  {
   "cell_type": "markdown",
   "id": "4d4f3a84-d4d1-4dcf-b27e-62376b34a34d",
   "metadata": {},
   "source": [
    "### 4. Mutations"
   ]
  },
  {
   "cell_type": "code",
   "execution_count": null,
   "id": "c7b376cf-ff60-4afb-b6ed-b0e969d63248",
   "metadata": {},
   "outputs": [],
   "source": [
    "def mutate_string(string, position, character):\n",
    "    return string[:position] + character + string[position+1:]\n",
    "\n",
    "if __name__ == '__main__':\n",
    "    s = input()\n",
    "    i, c = input().split()\n",
    "    s_new = mutate_string(s, int(i), c)\n",
    "    print(s_new)"
   ]
  },
  {
   "cell_type": "markdown",
   "id": "13a4c0e2-9112-459c-b481-1a1cb9d61db2",
   "metadata": {},
   "source": [
    "### 5. Find a string"
   ]
  },
  {
   "cell_type": "code",
   "execution_count": null,
   "id": "d855ab8d-748b-46e1-9a48-f48b3da1d6fd",
   "metadata": {},
   "outputs": [],
   "source": [
    "def count_substring(string, sub_string):\n",
    "    len_substr = len(sub_string)\n",
    "    cnt=0\n",
    "    for i in range(len(string)):\n",
    "        if sub_string == string[i:i+len_substr]:\n",
    "            cnt = cnt+1\n",
    "    return cnt\n",
    "\n",
    "if __name__ == '__main__':\n",
    "    string = input().strip()\n",
    "    sub_string = input().strip()\n",
    "    \n",
    "    count = count_substring(string, sub_string)\n",
    "    print(count)"
   ]
  },
  {
   "cell_type": "markdown",
   "id": "e844f7db-d06b-4004-b295-4652e6bfb1a2",
   "metadata": {},
   "source": [
    "### 6. String Validators"
   ]
  },
  {
   "cell_type": "code",
   "execution_count": null,
   "id": "1bf2f3cf-d404-488e-897f-be637c087893",
   "metadata": {},
   "outputs": [],
   "source": [
    "if __name__ == '__main__':\n",
    "    s = input()\n",
    "    \n",
    "    li=[0,0,0,0,0]\n",
    "    for i in range(len(s)):\n",
    "        if s[i].isalnum() == True:\n",
    "            li[0] = li[0]+1\n",
    "        if s[i].isalpha() == True:\n",
    "            li[1] = li[1]+1\n",
    "        if s[i].isdigit() == True:\n",
    "            li[2] = li[2]+1\n",
    "        if s[i].islower() == True:\n",
    "            li[3] = li[3]+1\n",
    "        if s[i].isupper() == True:\n",
    "            li[4] = li[4]+1\n",
    "            \n",
    "    for i in range(len(li)):\n",
    "        if li[i] > 0:\n",
    "            print(True)\n",
    "        else:\n",
    "            print(False)"
   ]
  },
  {
   "cell_type": "markdown",
   "id": "9b4aefab-bf5e-4cf8-be05-874fd3ccce58",
   "metadata": {},
   "source": [
    "### 7. Text Alignment"
   ]
  },
  {
   "cell_type": "code",
   "execution_count": null,
   "id": "97181791-b392-4c77-82b3-0ec565b03bfa",
   "metadata": {},
   "outputs": [],
   "source": [
    "thickness = int(input()) #This must be an odd number\n",
    "c = 'H'\n",
    "\n",
    "#Top Cone\n",
    "for i in range(thickness):\n",
    "    print((c*i).rjust(thickness-1)+c+(c*i).ljust(thickness-1))\n",
    "\n",
    "#Top Pillars\n",
    "for i in range(thickness+1):\n",
    "    print((c*thickness).center(thickness*2)+(c*thickness).center(thickness*6))\n",
    "\n",
    "#Middle Belt\n",
    "for i in range((thickness+1)//2):\n",
    "    print((c*thickness*5).center(thickness*6))    \n",
    "\n",
    "#Bottom Pillars\n",
    "for i in range(thickness+1):\n",
    "    print((c*thickness).center(thickness*2)+(c*thickness).center(thickness*6))    \n",
    "\n",
    "#Bottom Cone\n",
    "for i in range(thickness):\n",
    "    print(((c*(thickness-i-1)).rjust(thickness)+c+(c*(thickness-i-1)).ljust(thickness)).rjust(thickness*6))"
   ]
  },
  {
   "cell_type": "markdown",
   "id": "bf82b43b-f294-44e5-baec-42cd03a5e1d2",
   "metadata": {},
   "source": [
    "### 8. Text Wrap"
   ]
  },
  {
   "cell_type": "code",
   "execution_count": null,
   "id": "d29ebb62-3270-4528-80a5-9132153d202c",
   "metadata": {},
   "outputs": [],
   "source": [
    "import textwrap\n",
    "\n",
    "def wrap(string, max_width):\n",
    "    return textwrap.fill(string, max_width)\n",
    "\n",
    "if __name__ == '__main__':\n",
    "    string, max_width = input(), int(input())\n",
    "    result = wrap(string, max_width)\n",
    "    print(result)"
   ]
  },
  {
   "cell_type": "markdown",
   "id": "abc60eb4-0212-4430-8aff-4fe44ac1f27e",
   "metadata": {},
   "source": [
    "### 9. Designer Door Mat"
   ]
  },
  {
   "cell_type": "code",
   "execution_count": null,
   "id": "420b9588-67c7-4698-8116-5b6ca849e66a",
   "metadata": {},
   "outputs": [],
   "source": [
    "N , M = map(int, input().split())\n",
    "\n",
    "for i in range(1, N, 2):\n",
    "    print(('.|.'*i).center(M,'-'))\n",
    "    \n",
    "print(('WELCOME').center(M,'-'))\n",
    "\n",
    "for i in reversed(range(1, N, 2)):\n",
    "    print(('.|.'*i).center(M,'-'))"
   ]
  },
  {
   "cell_type": "markdown",
   "id": "c1c2923a-1e71-4283-83d1-3110180a91f5",
   "metadata": {},
   "source": [
    "### 10. String Formatting"
   ]
  },
  {
   "cell_type": "code",
   "execution_count": null,
   "id": "d91034ba-73bc-4b5a-bf6d-fc64f1fd094b",
   "metadata": {},
   "outputs": [],
   "source": [
    "def print_formatted(number):\n",
    "    width = len(bin(number)[2:])\n",
    "    for i in range(number):\n",
    "        decNo = str(i+1)\n",
    "        octNo = oct(i+1)[2:]\n",
    "        hexNo = hex(i+1)[2:].upper()\n",
    "        binNo = bin(i+1)[2:]\n",
    "        print(decNo.rjust(width), octNo.rjust(width), hexNo.rjust(width), binNo.rjust(width))\n",
    "    \n",
    "if __name__ == '__main__':\n",
    "    n = int(input())\n",
    "    print_formatted(n)"
   ]
  },
  {
   "cell_type": "markdown",
   "id": "5d442fda-ee03-4d03-bdb6-d101216e5248",
   "metadata": {},
   "source": [
    "### 11. Alphabet Rangoli"
   ]
  },
  {
   "cell_type": "code",
   "execution_count": null,
   "id": "3a171e8a-4d19-4d27-b9a7-c1f0937b7b8a",
   "metadata": {},
   "outputs": [],
   "source": [
    "def print_rangoli(size):\n",
    "    alphabet = 'abcdefghijklmnopqrstuvwxyz'\n",
    "    rangoli = []\n",
    "    for i in range(size):\n",
    "        s = '-'.join(alphabet[i:size])\n",
    "        rangoli.append((s[::-1] + s[1:]).center(4 * size - 3, '-'))\n",
    "    \n",
    "    print('\\n'.join(rangoli[::-1] + rangoli[1:]))\n",
    "\n",
    "if __name__ == '__main__':\n",
    "    n = int(input())\n",
    "    print_rangoli(n)"
   ]
  },
  {
   "cell_type": "markdown",
   "id": "fb54c282-a436-4016-8f92-93930ad9f2c5",
   "metadata": {},
   "source": [
    "### 12. Capitalize!"
   ]
  },
  {
   "cell_type": "code",
   "execution_count": null,
   "id": "66b5f4eb-207f-4edc-aa3e-0344135be79e",
   "metadata": {},
   "outputs": [],
   "source": [
    "#!/bin/python3\n",
    "import math\n",
    "import os\n",
    "import random\n",
    "import re\n",
    "import sys\n",
    "\n",
    "def solve(s):\n",
    "    s1 = s.split()\n",
    "    for i in s1:\n",
    "        s = s.replace(i, i.capitalize())\n",
    "    return s\n",
    "\n",
    "if __name__ == '__main__':\n",
    "    fptr = open(os.environ['OUTPUT_PATH'], 'w')\n",
    "\n",
    "    s = input()\n",
    "\n",
    "    result = solve(s)\n",
    "\n",
    "    fptr.write(result + '\\n')\n",
    "\n",
    "    fptr.close()"
   ]
  },
  {
   "cell_type": "markdown",
   "id": "44370609-4c8c-444e-8ee7-4e65f11ad445",
   "metadata": {},
   "source": [
    "### 13. The Minion Game"
   ]
  },
  {
   "cell_type": "code",
   "execution_count": null,
   "id": "8fee93a6-9897-4a55-9cd8-3a1c32ddf5a0",
   "metadata": {},
   "outputs": [],
   "source": [
    "def minion_game(string):\n",
    "    strlen = len(string)\n",
    "    vow = 'AEIOU'\n",
    "    stuartSc, kevinSc = 0,0\n",
    "    \n",
    "    for i in range(strlen):\n",
    "        if string[i] not in vow:\n",
    "            stuartSc += strlen - i\n",
    "        else:\n",
    "            kevinSc += strlen - i\n",
    "    \n",
    "    if stuartSc == kevinSc:\n",
    "        print('Draw')\n",
    "    elif stuartSc > kevinSc:\n",
    "        print(f'Stuart {stuartSc}')\n",
    "    else:\n",
    "        print(f'Kevin {kevinSc}')\n",
    "\n",
    "if __name__ == '__main__':\n",
    "    s = input()\n",
    "    minion_game(s)"
   ]
  },
  {
   "cell_type": "markdown",
   "id": "8044e19b-03b7-4f41-a463-9430171d4fdf",
   "metadata": {},
   "source": [
    "### 14. Merge the Tools!"
   ]
  },
  {
   "cell_type": "code",
   "execution_count": null,
   "id": "a0851164-6124-408e-9d26-17bf0370044f",
   "metadata": {},
   "outputs": [],
   "source": [
    "def merge_the_tools(string, k):\n",
    "    splitString = []\n",
    "    while len(string)>=k:\n",
    "        new_string = string[:k]\n",
    "        string = string[k:]\n",
    "        splitString.append(new_string)\n",
    "\n",
    "    for t in splitString:\n",
    "        u = ''\n",
    "        for char in t:\n",
    "            if char not in u:\n",
    "                u += char\n",
    "        print(u)\n",
    "\n",
    "if __name__ == '__main__':\n",
    "    string, k = input(), int(input())\n",
    "    merge_the_tools(string, k)"
   ]
  },
  {
   "cell_type": "markdown",
   "id": "4fece0e5-9dec-4a46-8f87-61176576f698",
   "metadata": {},
   "source": [
    "## Sets"
   ]
  },
  {
   "cell_type": "markdown",
   "id": "34e6d0dc-1b5b-4fb8-8849-5c505fdf6b35",
   "metadata": {},
   "source": [
    "### 1. Introduction to Sets"
   ]
  },
  {
   "cell_type": "code",
   "execution_count": null,
   "id": "a6a9fe24-e560-4eff-a239-26e0895c33bb",
   "metadata": {},
   "outputs": [],
   "source": [
    "def average(array):\n",
    "    distHeight = set(array)\n",
    "    return sum(distHeight)/len(distHeight)\n",
    "\n",
    "if __name__ == '__main__':\n",
    "    n = int(input())\n",
    "    arr = list(map(int, input().split()))\n",
    "    result = average(arr)\n",
    "    print(result)"
   ]
  },
  {
   "cell_type": "markdown",
   "id": "7f9cfa5b-7f39-4d48-aeaa-0b3cc0423758",
   "metadata": {},
   "source": [
    "### 2. No Idea!"
   ]
  },
  {
   "cell_type": "code",
   "execution_count": null,
   "id": "1d057aa5-bc9f-40bb-bbaa-f245637e1fa7",
   "metadata": {},
   "outputs": [],
   "source": [
    "n, m = map(int, input().split())\n",
    "array = list(map(int, input().split()))\n",
    "A = set(map(int, input().split()))\n",
    "B = set(map(int, input().split()))\n",
    "\n",
    "happiness = 0\n",
    "\n",
    "for i in array:\n",
    "    if i in A:\n",
    "        happiness += 1\n",
    "    elif i in B:\n",
    "        happiness -= 1\n",
    "    else:\n",
    "        pass\n",
    "\n",
    "print(happiness)"
   ]
  },
  {
   "cell_type": "markdown",
   "id": "940b96f7-24ec-4e49-8159-97739321933f",
   "metadata": {},
   "source": [
    "### 3. Set.add()"
   ]
  },
  {
   "cell_type": "code",
   "execution_count": null,
   "id": "115f26a5-cf9b-4fe3-bb6a-67e0027c8abd",
   "metadata": {},
   "outputs": [],
   "source": [
    "N = int(input())\n",
    "\n",
    "distStamps = set()\n",
    "\n",
    "for i in range(N):\n",
    "    stamps = str(input())\n",
    "    distStamps.add(stamps)\n",
    "    \n",
    "print(len(distStamps))"
   ]
  },
  {
   "cell_type": "markdown",
   "id": "cf30de4f-8625-496a-aba3-04cc60a9f86e",
   "metadata": {},
   "source": [
    "### 4. Set .discard(), .remove() & .pop()"
   ]
  },
  {
   "cell_type": "code",
   "execution_count": null,
   "id": "0c08469d-eeb7-45f5-a8a2-7871e3dcf590",
   "metadata": {},
   "outputs": [],
   "source": [
    "n = int(input())\n",
    "s = set(map(int, input().split()))\n",
    "N = int(input())\n",
    "command = []\n",
    "for i in range(N):\n",
    "    command = (input().split())\n",
    "    if command[0] == 'pop':\n",
    "        s.pop()\n",
    "    elif command[0] == 'remove':\n",
    "        s.remove(int(command[1]))\n",
    "    elif command[0] == 'discard':\n",
    "        s.discard(int(command[1]))\n",
    "    else:\n",
    "        pass\n",
    "\n",
    "print(sum(s))"
   ]
  },
  {
   "cell_type": "markdown",
   "id": "654ec35e-586f-472b-bfbb-48d0969284a9",
   "metadata": {},
   "source": [
    "### 5. Set .union() Operation"
   ]
  },
  {
   "cell_type": "code",
   "execution_count": null,
   "id": "bdaac05f-bd83-4415-871f-2a1d0d7abd28",
   "metadata": {},
   "outputs": [],
   "source": [
    "n = int(input())\n",
    "stdEng = set(map(int, input().split()))\n",
    "b = int(input())\n",
    "stdFrn = set(map(int, input().split()))\n",
    "\n",
    "print(len(stdEng | stdFrn))"
   ]
  },
  {
   "cell_type": "markdown",
   "id": "fe77fe00-b2a1-46c7-91c5-3fa3b7becc41",
   "metadata": {},
   "source": [
    "### 6. Set .intersection() Operation"
   ]
  },
  {
   "cell_type": "code",
   "execution_count": null,
   "id": "3ce95f6e-8e80-4f8d-bded-cd4ec12c39a1",
   "metadata": {},
   "outputs": [],
   "source": [
    "n = int(input())\n",
    "stdEng = set(map(int, input().split()))\n",
    "b = int(input())\n",
    "stdFrn = set(map(int, input().split()))\n",
    "\n",
    "print(len(stdEng&stdFrn))"
   ]
  },
  {
   "cell_type": "markdown",
   "id": "a469af16-875b-4882-b963-9dff80155277",
   "metadata": {},
   "source": [
    "### 7. Set .difference() Operation"
   ]
  },
  {
   "cell_type": "code",
   "execution_count": null,
   "id": "ea1167b1-a2da-4264-b7e4-1f62d6055445",
   "metadata": {},
   "outputs": [],
   "source": [
    "n = int(input())\n",
    "stdEng = set(map(int, input().split()))\n",
    "b = int(input())\n",
    "stdFrn = set(map(int, input().split()))\n",
    "\n",
    "print(len(stdEng-stdFrn))"
   ]
  },
  {
   "cell_type": "markdown",
   "id": "b3fdb38d-75c0-4e8f-b5b3-1eefe1b6196f",
   "metadata": {},
   "source": [
    "### 8. Set symmetric_difference() Operation"
   ]
  },
  {
   "cell_type": "code",
   "execution_count": null,
   "id": "02abfad2-453b-4b1c-8d40-0fcf2d58aa71",
   "metadata": {},
   "outputs": [],
   "source": [
    "n = int(input())\n",
    "stdEng = set(map(int, input().split()))\n",
    "b = int(input())\n",
    "stdFrn = set(map(int, input().split()))\n",
    "\n",
    "print(len(stdEng^stdFrn))"
   ]
  },
  {
   "cell_type": "markdown",
   "id": "ef30b7a0-7167-4cc7-9fd1-0992be9707cc",
   "metadata": {},
   "source": [
    "### 9. Set Mutations"
   ]
  },
  {
   "cell_type": "code",
   "execution_count": null,
   "id": "2dc2e112-5c3a-4be1-907c-7c4091d411b0",
   "metadata": {},
   "outputs": [],
   "source": [
    "no_A = int(input())\n",
    "A = set(map(int, input().split()))\n",
    "N = int(input())\n",
    "\n",
    "for i in range(N):\n",
    "    command = input().split()[0]\n",
    "    B = set(map(int, input().split()))\n",
    "     \n",
    "    if command == 'update':\n",
    "         A.update(B)\n",
    "    elif command == 'intersection_update':\n",
    "         A.intersection_update(B)\n",
    "    elif command == 'symmetric_difference_update':\n",
    "         A.symmetric_difference_update(B)\n",
    "    elif command == 'difference_update':\n",
    "         A.difference_update(B)\n",
    "    else:\n",
    "        pass\n",
    "\n",
    "print(sum(A))"
   ]
  },
  {
   "cell_type": "markdown",
   "id": "505a919b-81bf-4282-a6b5-31d8d841004d",
   "metadata": {},
   "source": [
    "### 10. The Captain's Room"
   ]
  },
  {
   "cell_type": "code",
   "execution_count": null,
   "id": "e119c22b-22f3-4131-a482-1c0f4087fd81",
   "metadata": {},
   "outputs": [],
   "source": [
    "K = int(input())\n",
    "roomNo = list(map(int, input().split()))\n",
    "\n",
    "A = set()\n",
    "B = set()\n",
    "\n",
    "for i in roomNo:\n",
    "    if i not in A:\n",
    "        A.add(i)\n",
    "    else:\n",
    "        B.add(i)\n",
    "        \n",
    "\n",
    "print(*(A.difference(B)))"
   ]
  },
  {
   "cell_type": "markdown",
   "id": "a133e375-f748-416c-8b03-ab281894fecc",
   "metadata": {},
   "source": [
    "### 11. Check Subset"
   ]
  },
  {
   "cell_type": "code",
   "execution_count": null,
   "id": "fb1e51a5-f7a6-45fd-aa5f-0b117475154c",
   "metadata": {},
   "outputs": [],
   "source": [
    "T = int(input())\n",
    "\n",
    "for i in range(T):\n",
    "    noA = int(input())\n",
    "    A = set(map(int, input().split()))\n",
    "    noB = int(input())\n",
    "    B = set(map(int, input().split()))\n",
    "    \n",
    "    if A.issubset(B):\n",
    "        print(True)\n",
    "    else:\n",
    "        print(False)\n",
    "        "
   ]
  },
  {
   "cell_type": "markdown",
   "id": "bc0f269c-c4af-4d07-a067-f321ff672691",
   "metadata": {},
   "source": [
    "### 12. Chech Strict Superset"
   ]
  },
  {
   "cell_type": "code",
   "execution_count": null,
   "id": "70e9082b-338a-4227-a83b-f6c5223ebf33",
   "metadata": {},
   "outputs": [],
   "source": [
    "A = set(map(int, input().split()))\n",
    "noSets = int(input())\n",
    "\n",
    "check=''\n",
    "for i in range(noSets):\n",
    "    B=set(map(int, input().split()))\n",
    "    \n",
    "    if len(B.difference(A)) == 0:\n",
    "        check = True\n",
    "    else:\n",
    "        check = False\n",
    "        break\n",
    "        \n",
    "print(check)"
   ]
  },
  {
   "cell_type": "markdown",
   "id": "70fcafaa-211f-432b-9014-a31643f916fd",
   "metadata": {},
   "source": [
    "### 13. Symmetric Difference"
   ]
  },
  {
   "cell_type": "code",
   "execution_count": null,
   "id": "5f20a39f-d48c-4b81-9b5a-afccf1475bc2",
   "metadata": {},
   "outputs": [],
   "source": [
    "m_size = int(input())\n",
    "a = str(input())\n",
    "n_size = int(input())\n",
    "b = str(input())\n",
    "\n",
    "lis1 = a.split()\n",
    "M = set(list(map(int, lis1)))\n",
    "\n",
    "lis2 = b.split()\n",
    "N = set(list(map(int, lis2)))\n",
    "\n",
    "M_diff = (M.difference(N))\n",
    "N_diff = (N.difference(M))\n",
    "\n",
    "set_union = M_diff.union(N_diff)\n",
    "\n",
    "sorted_set_union = sorted(set_union)\n",
    "\n",
    "for i in sorted_set_union:\n",
    "    print(i)"
   ]
  },
  {
   "cell_type": "markdown",
   "id": "b4f83774-17d2-4e60-a546-b76817bc23b8",
   "metadata": {},
   "source": [
    "## Collections"
   ]
  },
  {
   "cell_type": "markdown",
   "id": "c4e434a3-4b0a-4ab0-89c6-671b996253da",
   "metadata": {},
   "source": [
    "### 1. collections.Counter()"
   ]
  },
  {
   "cell_type": "code",
   "execution_count": null,
   "id": "0eae9287-9fab-4f75-bbc6-6ce5a862d384",
   "metadata": {},
   "outputs": [],
   "source": [
    "from collections import Counter\n",
    "\n",
    "X = int(input())\n",
    "shoes = list(map(int, input().split()))\n",
    "N = int(input())\n",
    "\n",
    "shoesCntr = Counter(shoes)\n",
    "totalMoney = 0\n",
    "\n",
    "for i in range(N):\n",
    "    purchase = list(map(int, input().split()))\n",
    "    \n",
    "    if purchase[0] in shoesCntr.keys():\n",
    "        if shoesCntr[purchase[0]] > 0:\n",
    "            totalMoney += purchase[1]\n",
    "            shoesCntr[purchase[0]] -= 1\n",
    "            \n",
    "print(totalMoney)"
   ]
  },
  {
   "cell_type": "markdown",
   "id": "0c5a563d-c58b-4118-a7ee-4225a5c85019",
   "metadata": {},
   "source": [
    "### 2. DefaultDict Tutorial"
   ]
  },
  {
   "cell_type": "code",
   "execution_count": null,
   "id": "e8e34d83-0fe2-422f-833c-d09fd5d40c06",
   "metadata": {},
   "outputs": [],
   "source": [
    "from collections import defaultdict\n",
    "\n",
    "n, m = map(int, input().split())\n",
    "\n",
    "DfDict = defaultdict(list)\n",
    "\n",
    "for i in range(n):\n",
    "    A = input()\n",
    "    DfDict[A].append(i+1)\n",
    "    \n",
    "for j in range(m):\n",
    "    B = input()\n",
    "    if B in DfDict:\n",
    "        print(' '.join(map(str, DfDict[B])))\n",
    "    else:\n",
    "        print(-1)\n"
   ]
  },
  {
   "cell_type": "markdown",
   "id": "b302df1f-cc97-432b-8fe7-c648ed0c5756",
   "metadata": {},
   "source": [
    "### 3. Collections.namedtuple()"
   ]
  },
  {
   "cell_type": "code",
   "execution_count": null,
   "id": "374c49b5-8088-4db6-b25d-2843fa573995",
   "metadata": {},
   "outputs": [],
   "source": [
    "from collections import namedtuple\n",
    "\n",
    "N = int(input())\n",
    "students = namedtuple(\"student\", input().split())\n",
    "\n",
    "totalMarks = 0\n",
    "for i in range(N):\n",
    "    totalMarks += int(students(*input().split()).MARKS)\n",
    "    \n",
    "print(\"{:.2f}\".format(totalMarks/N))"
   ]
  },
  {
   "cell_type": "markdown",
   "id": "3a53aa18-ef67-41ba-bdc8-9a03395e30a5",
   "metadata": {},
   "source": [
    "### 4. Collections.OrderedDict()"
   ]
  },
  {
   "cell_type": "code",
   "execution_count": null,
   "id": "3e197800-1f38-46bc-b768-5fe28a36be47",
   "metadata": {},
   "outputs": [],
   "source": [
    "from collections import OrderedDict\n",
    "\n",
    "N = int(input())\n",
    "\n",
    "dictOrd = OrderedDict()\n",
    "\n",
    "for i in range(N):\n",
    "    item, price = input().rsplit(' ', 1)\n",
    "    price = int(price)\n",
    "    if item in dictOrd:\n",
    "        dictOrd[item] += price\n",
    "    else:\n",
    "        dictOrd[item] = price\n",
    "\n",
    "for item, price in dictOrd.items():\n",
    "    print(item, price)"
   ]
  },
  {
   "cell_type": "markdown",
   "id": "8bdf994a-8583-48fe-962f-439cf6644947",
   "metadata": {},
   "source": [
    "### 5. Word Order"
   ]
  },
  {
   "cell_type": "code",
   "execution_count": null,
   "id": "595dfc0e-2bde-4283-87e0-8796045b000f",
   "metadata": {},
   "outputs": [],
   "source": [
    "from collections import Counter\n",
    "\n",
    "n = int(input())\n",
    "words=[]\n",
    "\n",
    "for i in range(n):\n",
    "    words.append(input().strip())\n",
    "\n",
    "cnt = Counter(words)\n",
    "\n",
    "print(len(cnt))\n",
    "print(*cnt.values())"
   ]
  },
  {
   "cell_type": "markdown",
   "id": "96dd405a-052b-4269-9834-7843dc306be8",
   "metadata": {},
   "source": [
    "### 6. Collections.deque()"
   ]
  },
  {
   "cell_type": "code",
   "execution_count": null,
   "id": "c4a2629e-28bc-4202-8974-bab1d0d0e341",
   "metadata": {},
   "outputs": [],
   "source": [
    "from collections import deque\n",
    "\n",
    "N = int(input())\n",
    "D = deque()\n",
    "\n",
    "for i in range(N):\n",
    "    line = input().split()\n",
    "    \n",
    "    method = line[0]\n",
    "    if len(line) > 1:\n",
    "        value = line[1]\n",
    "        \n",
    "    value = int(value)\n",
    "    if method == 'append':\n",
    "        D.append(value)\n",
    "    elif method == 'pop':\n",
    "        D.pop()\n",
    "    elif method == 'appendleft':\n",
    "        D.appendleft(value)\n",
    "    elif method == 'popleft':\n",
    "        D.popleft()\n",
    "    else:\n",
    "        pass\n",
    "        \n",
    "print(*D)"
   ]
  },
  {
   "cell_type": "markdown",
   "id": "b5ffd08f-750c-4f07-ae91-220c18bddf82",
   "metadata": {},
   "source": [
    "### 7. Company Logo"
   ]
  },
  {
   "cell_type": "code",
   "execution_count": null,
   "id": "ffaff7fb-8a26-4c2b-82e1-e075e8cf1e6c",
   "metadata": {},
   "outputs": [],
   "source": [
    "#!/bin/python3\n",
    "\n",
    "import math\n",
    "import os\n",
    "import random\n",
    "import re\n",
    "import sys\n",
    "from collections import Counter\n",
    "\n",
    "\n",
    "\n",
    "if __name__ == '__main__':\n",
    "    s = input()\n",
    "\n",
    "    S = sorted(s)\n",
    "\n",
    "    freq = Counter(list(S))\n",
    "\n",
    "    for i, j in freq.most_common(3):\n",
    "        print(i, j)"
   ]
  },
  {
   "cell_type": "markdown",
   "id": "678372fa-5275-45b7-a8ee-c19740add104",
   "metadata": {},
   "source": [
    "### 8. Piling Up!"
   ]
  },
  {
   "cell_type": "code",
   "execution_count": null,
   "id": "1024ce3e-15e4-49df-8df6-4c5e8c397822",
   "metadata": {},
   "outputs": [],
   "source": [
    "T = int(input())\n",
    "result = []\n",
    "\n",
    "for i in range(T):\n",
    "    n = int(input())\n",
    "    sideLen = list(map(int, input().split()))\n",
    "\n",
    "    for _ in range(n-1):\n",
    "        if sideLen[0] >= sideLen[len(sideLen)-1]:\n",
    "            block = sideLen[0]\n",
    "            sideLen.pop(0)\n",
    "        elif sideLen[0] < sideLen[len(sideLen)-1]:\n",
    "            block = sideLen[len(sideLen)-1]\n",
    "            sideLen.pop(len(sideLen)-1)\n",
    "        else:\n",
    "            pass\n",
    "\n",
    "        if len(sideLen) == 1:\n",
    "            result.append(\"Yes\")\n",
    "\n",
    "        if((sideLen[0] > block) or (sideLen[len(sideLen)-1] > block)):\n",
    "            result.append(\"No\")\n",
    "            break\n",
    "\n",
    "print(\"\\n\".join(result))"
   ]
  },
  {
   "cell_type": "markdown",
   "id": "3f62b8a9-29ad-43c9-bfa8-8d4190ad4137",
   "metadata": {},
   "source": [
    "## Date and Time"
   ]
  },
  {
   "cell_type": "markdown",
   "id": "923333e4-5e3d-447d-8814-4d9067c6e4a2",
   "metadata": {},
   "source": [
    "### 1. Calendar Module"
   ]
  },
  {
   "cell_type": "code",
   "execution_count": null,
   "id": "31b5c029-876b-479b-99fe-dafccbc20adb",
   "metadata": {},
   "outputs": [],
   "source": [
    "import calendar\n",
    "\n",
    "mm, dd, yy = map(int, input().split())\n",
    "\n",
    "weekday=calendar.weekday(yy, mm, dd)\n",
    "\n",
    "print(calendar.day_name[weekday].upper())\n"
   ]
  },
  {
   "cell_type": "markdown",
   "id": "8107c5a8-d4f9-4f93-accb-ce304d8e26fe",
   "metadata": {},
   "source": [
    "### 2. Time Delta"
   ]
  },
  {
   "cell_type": "code",
   "execution_count": null,
   "id": "a49cbfa8-e34c-4de9-8af4-8f0264b1151a",
   "metadata": {},
   "outputs": [],
   "source": [
    "import math\n",
    "import os\n",
    "import random\n",
    "import re\n",
    "import sys\n",
    "from datetime import datetime\n",
    "\n",
    "# Complete the time_delta function below.\n",
    "def time_delta(t1, t2):\n",
    "    format = '%a %d %b %Y %H:%M:%S %z'\n",
    "\n",
    "    time1 = datetime.strptime(t1, format)\n",
    "    time2 = datetime.strptime(t2, format)\n",
    "\n",
    "    timeDiff = str(int(abs((time1 - time2).total_seconds())))\n",
    "\n",
    "    return timeDiff\n",
    "\n",
    "if __name__ == '__main__':\n",
    "    fptr = open(os.environ['OUTPUT_PATH'], 'w')\n",
    "\n",
    "    t = int(input())\n",
    "\n",
    "    for t_itr in range(t):\n",
    "        t1 = input()\n",
    "\n",
    "        t2 = input()\n",
    "\n",
    "        delta = time_delta(t1, t2)\n",
    "\n",
    "        fptr.write(delta + '\\n')\n",
    "\n",
    "    fptr.close()"
   ]
  },
  {
   "cell_type": "markdown",
   "id": "195ad5f3-194e-4c4b-b915-790f492de94a",
   "metadata": {},
   "source": [
    "## Errors and Exceptions"
   ]
  },
  {
   "cell_type": "markdown",
   "id": "fd14bfd6-ec62-4c0c-b2a0-b1b6f958a0ff",
   "metadata": {},
   "source": [
    "### 1. Exceptions"
   ]
  },
  {
   "cell_type": "code",
   "execution_count": null,
   "id": "b7e294d4-c39c-481c-9d66-30fcd7cb8161",
   "metadata": {},
   "outputs": [],
   "source": [
    "T = int(input())\n",
    "\n",
    "for i in range(T):\n",
    "    try:\n",
    "        a, b = input().split()\n",
    "        print(int(a) // int(b))\n",
    "    except ZeroDivisionError as zerDivErr:\n",
    "        print(f'Error Code: {zerDivErr}')\n",
    "    except ValueError as valErr:\n",
    "        print(f'Error Code: {valErr}')"
   ]
  },
  {
   "cell_type": "markdown",
   "id": "293a1b85-13ca-482e-bff3-0a92068b1685",
   "metadata": {},
   "source": [
    "## Built-Ins"
   ]
  },
  {
   "cell_type": "markdown",
   "id": "dceda0b3-a254-4ef4-b766-e5080238f647",
   "metadata": {},
   "source": [
    "### 1. Zipped!"
   ]
  },
  {
   "cell_type": "code",
   "execution_count": null,
   "id": "7e3117fd-134b-4478-83b6-2a09d078a77c",
   "metadata": {},
   "outputs": [],
   "source": [
    "N, X = map(int, input().split())\n",
    "\n",
    "marks = []\n",
    "\n",
    "for i in range(X):\n",
    "    crsMarks = list(map(float, input().split()))\n",
    "    marks.append(crsMarks)\n",
    "    \n",
    "for stdMarks in list(zip(*marks)):\n",
    "    print (sum(stdMarks)/X)"
   ]
  },
  {
   "cell_type": "markdown",
   "id": "9ed2bbf5-0163-4c0c-b58c-a4294f75c2e2",
   "metadata": {},
   "source": [
    "### 2. Athlete Sort"
   ]
  },
  {
   "cell_type": "code",
   "execution_count": null,
   "id": "c4028650-7d2f-47e2-85a6-1f0bc6dea6c5",
   "metadata": {},
   "outputs": [],
   "source": [
    "#!/bin/python3\n",
    "\n",
    "import math\n",
    "import os\n",
    "import random\n",
    "import re\n",
    "import sys\n",
    "\n",
    "if __name__ == '__main__':\n",
    "    nm = input().split()\n",
    "    n = int(nm[0])\n",
    "    m = int(nm[1])\n",
    "    arr = []\n",
    "\n",
    "    for _ in range(n):\n",
    "        arr.append(list(map(int, input().rstrip().split())))\n",
    "\n",
    "    k = int(input())\n",
    "    sortedArr = sorted(arr, key = lambda x : x[k])\n",
    "    for row in sortedArr:\n",
    "        print(' '.join(str(y) for y in row))"
   ]
  },
  {
   "cell_type": "markdown",
   "id": "d4bcb202-b8e0-4bc4-b186-0dd3b7659711",
   "metadata": {},
   "source": [
    "### 3. ginortS"
   ]
  },
  {
   "cell_type": "code",
   "execution_count": null,
   "id": "4358f3f8-f481-4f08-b10b-a16ef11bdb75",
   "metadata": {},
   "outputs": [],
   "source": [
    "S = list(input())\n",
    "\n",
    "S.sort(key=lambda x: ((x.isdigit() and int(x) % 2 == 0), \n",
    "      (x.isdigit() and int(x) % 2 == 1), x.isupper(), x.islower(), x))\n",
    "\n",
    "print(*S, sep='')"
   ]
  },
  {
   "cell_type": "markdown",
   "id": "7ce6c9b0-1679-4d39-806b-9a6f352730ee",
   "metadata": {},
   "source": [
    "## Python Functionals"
   ]
  },
  {
   "cell_type": "markdown",
   "id": "e3880805-a378-4af1-a23e-a9020a3c6162",
   "metadata": {},
   "source": [
    "### 1. Map and Lambda Function"
   ]
  },
  {
   "cell_type": "code",
   "execution_count": null,
   "id": "bda0e3ea-d557-4206-b72b-2455c0fba2bb",
   "metadata": {},
   "outputs": [],
   "source": [
    "cube = lambda x: x**3 \n",
    "\n",
    "def fibonacci(n):\n",
    "    # return a list of fibonacci numbers\n",
    "    fibLis = []\n",
    "    a, b = 0, 1\n",
    "    \n",
    "    if n == 0:\n",
    "        return fibLis\n",
    "    \n",
    "    fibLis.append(a)\n",
    "    while len(fibLis) < n:\n",
    "        fibLis.append(b)\n",
    "        a, b = b, a+b\n",
    "        \n",
    "\n",
    "    return(fibLis)\n",
    "\n",
    "if __name__ == '__main__':\n",
    "    n = int(input())\n",
    "    print(list(map(cube, fibonacci(n))))"
   ]
  },
  {
   "cell_type": "markdown",
   "id": "cd628e47-ac48-4fa1-93a5-a59a5b6f11f3",
   "metadata": {},
   "source": [
    "## Regex and Parsing"
   ]
  },
  {
   "cell_type": "markdown",
   "id": "c05f34bf-a0dc-498c-a234-019e65ffd7f5",
   "metadata": {},
   "source": [
    "### 1. Detect Floating Point Numbers"
   ]
  },
  {
   "cell_type": "code",
   "execution_count": null,
   "id": "3355bfc4-6b01-4d7a-a8b7-2de17677f3ee",
   "metadata": {},
   "outputs": [],
   "source": [
    "import re\n",
    "\n",
    "T = int(input())\n",
    "\n",
    "for i in range(T):\n",
    "    inp = input()\n",
    "    try:\n",
    "        bool(float(inp))\n",
    "        fltPnt = re.match(r'^[-+]?[0-9]*\\.[0-9]+$', inp) \n",
    "        print(bool(fltPnt))\n",
    "    except:\n",
    "        print(False)"
   ]
  },
  {
   "cell_type": "markdown",
   "id": "e4196be0-bc8b-41e8-8046-0d09cc6922ad",
   "metadata": {},
   "source": [
    "### 2. Re.split()"
   ]
  },
  {
   "cell_type": "code",
   "execution_count": null,
   "id": "3a1764e7-356c-4553-8d08-87bd52e4829c",
   "metadata": {},
   "outputs": [],
   "source": [
    "regex_pattern = r\"[\\,\\.]\" \n",
    "\n",
    "import re\n",
    "print(\"\\n\".join(re.split(regex_pattern, input())))"
   ]
  },
  {
   "cell_type": "markdown",
   "id": "67087705-12f5-404d-bc80-c3a75ada9cb9",
   "metadata": {},
   "source": [
    "### 3. Group(), Groups() & Groupdict()"
   ]
  },
  {
   "cell_type": "code",
   "execution_count": null,
   "id": "89c84ae2-f0fc-4255-98e9-1c29ef3485d7",
   "metadata": {},
   "outputs": [],
   "source": [
    "import re\n",
    "\n",
    "pattern = r'([a-zA-Z0-9])\\1+'\n",
    "match = re.search(pattern, input().strip())\n",
    "if match:\n",
    "    print(match.groups()[0])\n",
    "else:\n",
    "    print(-1)"
   ]
  },
  {
   "cell_type": "markdown",
   "id": "33ae445d-7119-4484-9f16-3c511a441ea2",
   "metadata": {},
   "source": [
    "### 4. Re.findall() & Re.finditer()"
   ]
  },
  {
   "cell_type": "code",
   "execution_count": null,
   "id": "88c91b2b-5209-42db-a9af-24482a22c437",
   "metadata": {},
   "outputs": [],
   "source": [
    "import re\n",
    "\n",
    "inp = input()\n",
    "consonants = '[qwrtypsdfghjklzxcvbnm]'\n",
    "substrings = re.findall(\"(?<=\" + consonants + \")([aeiou]{2,})\" + consonants, inp, re.I)\n",
    "\n",
    "print('\\n'.join(substrings or ['-1']))"
   ]
  },
  {
   "cell_type": "markdown",
   "id": "cc6c710d-0a42-4128-bc2c-cb8fdf0f92c5",
   "metadata": {},
   "source": [
    "### 5. Re.start() & Re.end()"
   ]
  },
  {
   "cell_type": "code",
   "execution_count": null,
   "id": "bfd6cf86-941b-429d-99ef-b053a6ae7587",
   "metadata": {},
   "outputs": [],
   "source": [
    "import re\n",
    "\n",
    "S = input()\n",
    "k = input()\n",
    "\n",
    "k = re.compile(k)\n",
    "\n",
    "match = k.search(S)\n",
    "if match is None:\n",
    "    print('(-1, -1)')\n",
    "else:\n",
    "    while match:\n",
    "        print('({}, {})'.format(match.start(), match.end()-1))\n",
    "        match = k.search(S, match.start() + 1)"
   ]
  },
  {
   "cell_type": "markdown",
   "id": "9e876b05-f0ae-47d8-ba54-eb7edaaf9e71",
   "metadata": {},
   "source": [
    "### 6. Regex Substitution"
   ]
  },
  {
   "cell_type": "code",
   "execution_count": null,
   "id": "42a33867-6f99-47e8-86b4-a19d6fb12164",
   "metadata": {},
   "outputs": [],
   "source": [
    "import re\n",
    "\n",
    "pattern = r'(?<= )(&&|\\|\\|)(?= )'\n",
    "\n",
    "N = int(input())\n",
    "for _ in range(N):\n",
    "    string = input()\n",
    "    \n",
    "    string = re.sub(pattern, lambda x: 'and' if x.group() == '&&' else 'or', string)\n",
    "    \n",
    "    print(string)"
   ]
  },
  {
   "cell_type": "markdown",
   "id": "c0491741-5e84-4e8f-936c-c77cf75fe672",
   "metadata": {},
   "source": [
    "### 7. Validating Roman Numerals"
   ]
  },
  {
   "cell_type": "code",
   "execution_count": null,
   "id": "4de67088-0be6-4773-9462-451d6e3a19ce",
   "metadata": {},
   "outputs": [],
   "source": [
    "regex_pattern = r\"^M{0,3}(CM|CD|D?C{0,3})(XL|XC|L?X{0,3})(IX|IV|V?I{0,3}$)\"\t\n",
    "\n",
    "import re\n",
    "print(str(bool(re.match(regex_pattern, input()))))"
   ]
  },
  {
   "cell_type": "markdown",
   "id": "05d1c00e-31af-4d34-b864-98dba03cd833",
   "metadata": {},
   "source": [
    "### 8. Validating phone numbers"
   ]
  },
  {
   "cell_type": "code",
   "execution_count": null,
   "id": "9e4741be-1dad-44e4-bb33-53f5f37bb271",
   "metadata": {},
   "outputs": [],
   "source": [
    "import re\n",
    "\n",
    "pattern = r'^[789]\\d{9}$'\n",
    "N = int(input())\n",
    "for i in range(N):\n",
    "    phnNo = input()\n",
    "    match = re.fullmatch(pattern, phnNo)\n",
    "    if match is not None and match.span() == (0, len(phnNo)):\n",
    "        print('YES')\n",
    "    else:\n",
    "        print('NO')"
   ]
  },
  {
   "cell_type": "markdown",
   "id": "40b39305-f8d7-4b08-8aa1-96ca51acc48a",
   "metadata": {},
   "source": [
    "### 9. Validating and Parsing Email Addresses"
   ]
  },
  {
   "cell_type": "code",
   "execution_count": null,
   "id": "37308dd5-6211-4f31-b18c-a7b207a6540a",
   "metadata": {},
   "outputs": [],
   "source": [
    "import email.utils as em\n",
    "import re\n",
    "\n",
    "n = int(input())\n",
    "pattern = r'^[a-zA-Z](\\w|-|\\.|_)+@[a-zA-Z]+\\.[a-zA-Z]{0,3}$'\n",
    "      \n",
    "for i in range(n):\n",
    "    line = em.parseaddr(input())\n",
    "            \n",
    "    if re.match(pattern, line[1]):\n",
    "        print(em.formataddr(line))"
   ]
  },
  {
   "cell_type": "markdown",
   "id": "bf8ac88a-93fc-473d-be17-ef4874e3b4f2",
   "metadata": {},
   "source": [
    "### 10. Hex Color Code"
   ]
  },
  {
   "cell_type": "code",
   "execution_count": null,
   "id": "65a44681-53f3-4162-b9d2-7fbae551a951",
   "metadata": {},
   "outputs": [],
   "source": [
    "import re\n",
    "\n",
    "pattern = r'(?<!^)#([0-9a-fA-F]{3}){1,2}'\n",
    "\n",
    "N = int(input())\n",
    "for _ in range(N):\n",
    "    line = input()\n",
    "    itr = re.finditer(pattern, line)\n",
    "    for i in itr:\n",
    "        if i is not None:\n",
    "            print(line[i.start(): i.end()])"
   ]
  },
  {
   "cell_type": "markdown",
   "id": "966ad7c1-eb1d-465f-8de0-ccfb1abedd7c",
   "metadata": {},
   "source": [
    "### 11. HTML Parser - Part 1"
   ]
  },
  {
   "cell_type": "code",
   "execution_count": null,
   "id": "afc33a40-7171-404a-a128-6d395a128527",
   "metadata": {},
   "outputs": [],
   "source": [
    "from html.parser import HTMLParser\n",
    "\n",
    "# create a subclass and override the handler methods\n",
    "class MyHTMLParser(HTMLParser):\n",
    "    def handle_starttag(self, tag, attrs):\n",
    "        print('Start :', tag)\n",
    "        self.handle_attrs(attrs)\n",
    "\n",
    "    def handle_endtag(self, tag):\n",
    "        print('End   :', tag)\n",
    "\n",
    "    def handle_startendtag(self, tag, attrs):\n",
    "        print('Empty :', tag)\n",
    "        self.handle_attrs(attrs)\n",
    "\n",
    "    def handle_attrs(self, attrs):\n",
    "        for attribute in attrs:\n",
    "            print('->', attribute[0], '>', attribute[1])\n",
    "\n",
    "parser = MyHTMLParser()\n",
    "\n",
    "N = int(input())\n",
    "for i in range(N):\n",
    "    html = input()\n",
    "    parser.feed(html)"
   ]
  },
  {
   "cell_type": "markdown",
   "id": "7c4f7029-162c-4a74-b568-9146a41a1b52",
   "metadata": {},
   "source": [
    "### 12. HTML Parser - Part 2"
   ]
  },
  {
   "cell_type": "code",
   "execution_count": null,
   "id": "a558cb81-1838-4dbb-b742-bb8aeab46a43",
   "metadata": {},
   "outputs": [],
   "source": [
    "from html.parser import HTMLParser\n",
    "\n",
    "class MyHTMLParser(HTMLParser):\n",
    "    def handle_comment(self, data):\n",
    "        if '\\n' in data:\n",
    "            print('>>> Multi-line Comment')\n",
    "        else:\n",
    "            print('>>> Single-line Comment')\n",
    "        print(data)\n",
    "        \n",
    "    def handle_data(self, data):\n",
    "        if data == '\\n':\n",
    "            return\n",
    "        print(\">>> Data\")\n",
    "        print(data)\n",
    "    \n",
    "html = \"\"       \n",
    "for i in range(int(input())):\n",
    "    html += input().rstrip()\n",
    "    html += '\\n'\n",
    "    \n",
    "parser = MyHTMLParser()\n",
    "parser.feed(html)\n",
    "parser.close()"
   ]
  },
  {
   "cell_type": "markdown",
   "id": "5aa165db-c46c-4182-9b56-b7d38713cb17",
   "metadata": {},
   "source": [
    "### 13. Detect HTML Tags, Attributes and Attribute Values "
   ]
  },
  {
   "cell_type": "code",
   "execution_count": null,
   "id": "618b8180-435d-4e43-910d-ecc62ab9a5b0",
   "metadata": {},
   "outputs": [],
   "source": [
    "from html.parser import HTMLParser\n",
    "\n",
    "class MyHTMLParser(HTMLParser):\n",
    "    def handle_starttag(self, tag, attrs):\n",
    "        print(tag)\n",
    "        for attribute in attrs:\n",
    "            print('-> {} > {}'.format(*attribute))\n",
    "\n",
    "N = int(input())\n",
    "s = ''\n",
    "for i in range(N):\n",
    "    t = input()\n",
    "    s += t\n",
    "        \n",
    "obj = MyHTMLParser()\n",
    "obj.feed(s)"
   ]
  },
  {
   "cell_type": "markdown",
   "id": "2d054b0f-b711-48d6-b68d-42b1f2d9c408",
   "metadata": {},
   "source": [
    "### 14. Validating UID"
   ]
  },
  {
   "cell_type": "code",
   "execution_count": null,
   "id": "c3fc35bc-2cb2-4cd4-a8ef-c3f9396ec6c1",
   "metadata": {},
   "outputs": [],
   "source": [
    "import re\n",
    "\n",
    "patternUpperCase = r'[A-Z]{2}'\n",
    "patternDigits = r'(\\d){3}'\n",
    "patternAlphaNum = r'[0-9a-zA-Z]{10}'\n",
    "patternRepitions = r'^.*(.).*\\1.*$'\n",
    "\n",
    "for _ in range(int(input())):\n",
    "    uid = ''.join(sorted(input()))\n",
    "    \n",
    "    if bool(re.search(patternUpperCase, uid)) == True:\n",
    "        if bool(re.search(patternDigits, uid)) == True:\n",
    "            if bool(re.search(patternAlphaNum, uid)) == True:\n",
    "                if bool(re.search(patternRepitions, uid)) == False:\n",
    "                    if len(uid) == 10:\n",
    "                        print('Valid')\n",
    "                    else:\n",
    "                        print('Invalid')\n",
    "                else:\n",
    "                    print('Invalid')\n",
    "            else:\n",
    "                print('Invalid')\n",
    "        else:\n",
    "            print('Invalid')    \n",
    "    else:\n",
    "        print('Invalid')   "
   ]
  },
  {
   "cell_type": "markdown",
   "id": "a6eddcd7-45b3-4117-8130-7af453729f08",
   "metadata": {},
   "source": [
    "### 15. Validating Credit Card Numbers"
   ]
  },
  {
   "cell_type": "code",
   "execution_count": null,
   "id": "6720c8c9-e3d1-4d20-b89c-28a3990346eb",
   "metadata": {},
   "outputs": [],
   "source": [
    "import re\n",
    "\n",
    "pattern = re.compile(r'^(?!.*(\\d)(-?\\1){3})[456]\\d{3}(?:-?\\d{4}){3}$')\n",
    "for i in range(int(input())):\n",
    "    creditCard = input()\n",
    "    if pattern.search(creditCard):\n",
    "        print('Valid')\n",
    "    else:\n",
    "        print('Invalid')"
   ]
  },
  {
   "cell_type": "markdown",
   "id": "7a9e8629-19db-43a7-8d47-f1f9d934b7bf",
   "metadata": {},
   "source": [
    "### 16. Validating Postal Codes"
   ]
  },
  {
   "cell_type": "code",
   "execution_count": null,
   "id": "645be6d1-48d1-4ddd-b44f-b4c9ae4d74cf",
   "metadata": {},
   "outputs": [],
   "source": [
    "regex_integer_in_range = r\"^[1-9][\\d]{5}$\"\t\n",
    "regex_alternating_repetitive_digit_pair = r\"(\\d)(?=\\d\\1)\"\t\n",
    "\n",
    "import re\n",
    "P = input()\n",
    "\n",
    "print (bool(re.match(regex_integer_in_range, P)) \n",
    "and len(re.findall(regex_alternating_repetitive_digit_pair, P)) < 2)"
   ]
  },
  {
   "cell_type": "markdown",
   "id": "770fc64f-1c6c-48e5-adea-9fcb4bded35f",
   "metadata": {},
   "source": [
    "### 17. Matrix Script"
   ]
  },
  {
   "cell_type": "code",
   "execution_count": null,
   "id": "93093791-376c-40df-a5c8-31fe0ba13048",
   "metadata": {},
   "outputs": [],
   "source": [
    "#!/bin/python3\n",
    "\n",
    "import math\n",
    "import os\n",
    "import random\n",
    "import re\n",
    "import sys\n",
    "\n",
    "first_multiple_input = input().rstrip().split()\n",
    "n = int(first_multiple_input[0])\n",
    "m = int(first_multiple_input[1])\n",
    "matrix = []\n",
    "\n",
    "for _ in range(n):\n",
    "    matrix_item = input()\n",
    "    matrix.append(matrix_item)\n",
    "\n",
    "string=''\n",
    "for i in zip(*matrix):\n",
    "    string += ''.join(i)\n",
    "\n",
    "result = re.sub(r'([a-zA-Z0-9])([^a-zA-Z0-9]+)(?=[a-zA-Z0-9])', r'\\1 ', string)\n",
    "print(result)"
   ]
  },
  {
   "cell_type": "markdown",
   "id": "0834acc8-0b67-44a3-bec3-3c90ff383e95",
   "metadata": {},
   "source": [
    "## XML"
   ]
  },
  {
   "cell_type": "markdown",
   "id": "50473730-3d88-4dbc-addf-0c8dd6d98be2",
   "metadata": {},
   "source": [
    "### 1. XML 1 - Find the Score"
   ]
  },
  {
   "cell_type": "code",
   "execution_count": null,
   "id": "bb5e1e71-d97f-4449-8337-2ca66a6e9b6b",
   "metadata": {},
   "outputs": [],
   "source": [
    "import sys\n",
    "import xml.etree.ElementTree as etree\n",
    "\n",
    "def get_attr_number(node):\n",
    "    # your code goes here\n",
    "    totalScore=0\n",
    "    for elem in node.iter():\n",
    "        totalScore += len(elem.attrib)\n",
    "        \n",
    "    return totalScore\n",
    "\n",
    "if __name__ == '__main__':\n",
    "    sys.stdin.readline()\n",
    "    xml = sys.stdin.read()\n",
    "    tree = etree.ElementTree(etree.fromstring(xml))\n",
    "    root = tree.getroot()\n",
    "    print(get_attr_number(root))"
   ]
  },
  {
   "cell_type": "markdown",
   "id": "6b97af47-1528-437e-af9c-6783c8fded1f",
   "metadata": {},
   "source": [
    "### 2. XML2 - Find the Maximum Depth"
   ]
  },
  {
   "cell_type": "code",
   "execution_count": null,
   "id": "949e0f0f-de6b-465f-8c2f-d4acc96373cb",
   "metadata": {},
   "outputs": [],
   "source": [
    "import xml.etree.ElementTree as etree\n",
    "\n",
    "maxdepth = 0\n",
    "def depth(elem, level):\n",
    "    global maxdepth\n",
    "    # your code goes here\n",
    "    level += 1\n",
    "    if level > maxdepth:\n",
    "        maxdepth = level\n",
    "    for x in elem:\n",
    "        depth(x, level)\n",
    "        \n",
    "if __name__ == '__main__':\n",
    "    n = int(input())\n",
    "    xml = \"\"\n",
    "    for i in range(n):\n",
    "        xml =  xml + input() + \"\\n\"\n",
    "    tree = etree.ElementTree(etree.fromstring(xml))\n",
    "    depth(tree.getroot(), -1)\n",
    "    print(maxdepth)"
   ]
  },
  {
   "cell_type": "markdown",
   "id": "37917bb0-261f-4bd6-a494-296aaea5330d",
   "metadata": {},
   "source": [
    "## Closures and Decorators"
   ]
  },
  {
   "cell_type": "markdown",
   "id": "c0b069eb-abd2-4a62-8fab-20205b243f44",
   "metadata": {},
   "source": [
    "### 1. Standardize Mobile Number Using Decorators"
   ]
  },
  {
   "cell_type": "code",
   "execution_count": null,
   "id": "c110df92-b6dc-4cf8-a556-e520ca1816fa",
   "metadata": {},
   "outputs": [],
   "source": [
    "import operator\n",
    "\n",
    "def wrapper(f):\n",
    "    def fun(l):\n",
    "        temp=[]\n",
    "        for i in l:\n",
    "            temp.append(\"+91 \" + i[-10:-5] + \" \" + i[-5:])\n",
    "        f(temp)\n",
    "    return fun\n",
    "\n",
    "@wrapper\n",
    "def sort_phone(l):\n",
    "    print(*sorted(l), sep='\\n')\n",
    "\n",
    "if __name__ == '__main__':\n",
    "    l = [input() for _ in range(int(input()))]\n",
    "    sort_phone(l) "
   ]
  },
  {
   "cell_type": "markdown",
   "id": "9b5b35de-45f9-422a-8f06-0c4f54b02294",
   "metadata": {},
   "source": [
    "### 2. Decorators 2 - Name Directory"
   ]
  },
  {
   "cell_type": "code",
   "execution_count": null,
   "id": "bad60593-41ad-49c5-a4ad-bae711300a1e",
   "metadata": {},
   "outputs": [],
   "source": [
    "import operator\n",
    "\n",
    "def person_lister(f):\n",
    "    def inner(people):\n",
    "        ppl_sort = sorted(people, key= lambda x: int(x[2]))\n",
    "        return map(f, ppl_sort)\n",
    "    return inner\n",
    "\n",
    "@person_lister\n",
    "def name_format(person):\n",
    "    return (\"Mr. \" if person[3] == \"M\" else \"Ms. \") + person[0] + \" \" + person[1]\n",
    "\n",
    "if __name__ == '__main__':\n",
    "    people = [input().split() for i in range(int(input()))]\n",
    "    print(*name_format(people), sep='\\n')"
   ]
  },
  {
   "cell_type": "markdown",
   "id": "de3b1786-c69c-47ef-9676-92ab2c8ef29b",
   "metadata": {},
   "source": [
    "## Numpy"
   ]
  },
  {
   "cell_type": "markdown",
   "id": "dddccafa-3dd0-45b9-8619-3fec3c3c0d8f",
   "metadata": {},
   "source": [
    "### 1. Arrays"
   ]
  },
  {
   "cell_type": "code",
   "execution_count": null,
   "id": "cdcf935e-6aaf-44c0-a189-1b8abf701200",
   "metadata": {},
   "outputs": [],
   "source": [
    "import numpy\n",
    "\n",
    "def arrays(arr):\n",
    "    a = numpy.array(arr,float)\n",
    "    return a[::-1]\n",
    "    \n",
    "\n",
    "arr = input().strip().split(' ')\n",
    "result = arrays(arr)\n",
    "print(result)"
   ]
  },
  {
   "cell_type": "markdown",
   "id": "6cd67723-4997-4ee9-8da0-09ceac9f99a5",
   "metadata": {},
   "source": [
    "### 2. Shape and Reshape"
   ]
  },
  {
   "cell_type": "code",
   "execution_count": null,
   "id": "8308ec15-bc30-4979-816a-0ff62e99169d",
   "metadata": {},
   "outputs": [],
   "source": [
    "import numpy\n",
    "\n",
    "arr = numpy.array(list(map(int, input().split())))\n",
    "\n",
    "print(numpy.reshape(arr, (3,3)))"
   ]
  },
  {
   "cell_type": "markdown",
   "id": "7cd8b619-861e-433c-a745-ee03b473e242",
   "metadata": {},
   "source": [
    "### 3. Transpose and Flatten"
   ]
  },
  {
   "cell_type": "code",
   "execution_count": null,
   "id": "037935f3-a8a9-42df-bc8a-d5df0eb21bdc",
   "metadata": {},
   "outputs": [],
   "source": [
    "import numpy\n",
    "\n",
    "N, M = map(int, input().split())\n",
    "matrix = list()\n",
    "\n",
    "for i in range(N):\n",
    "    matrix.append(list(map(int, input().split())))\n",
    "    \n",
    "arr = numpy.array(matrix)\n",
    "\n",
    "print(arr.transpose())\n",
    "print(arr.flatten())"
   ]
  },
  {
   "cell_type": "markdown",
   "id": "93d2f716-8e93-47b0-8cc1-1f4e58cd2d70",
   "metadata": {},
   "source": [
    "### 4. Concatenate"
   ]
  },
  {
   "cell_type": "code",
   "execution_count": null,
   "id": "87bcc419-49fd-4da0-8c1e-faf69fe32ddc",
   "metadata": {},
   "outputs": [],
   "source": [
    "import numpy\n",
    "\n",
    "N, M, P = map(int, input().split())\n",
    "matrix1 = list()\n",
    "matrix2 = list()\n",
    "\n",
    "for i in range(N):\n",
    "    matrix1.append(list(map(int, input().split())))\n",
    "    \n",
    "for j in range(M):\n",
    "    matrix2.append(list(map(int, input().split())))\n",
    "    \n",
    "print(numpy.concatenate((matrix1, matrix2)))"
   ]
  },
  {
   "cell_type": "markdown",
   "id": "512abc31-07f9-40d8-a2db-1d92603025d6",
   "metadata": {},
   "source": [
    "### 5. Zeros and Ones"
   ]
  },
  {
   "cell_type": "code",
   "execution_count": null,
   "id": "32b34c1f-2ed0-41e6-9d08-aa116f806cc6",
   "metadata": {},
   "outputs": [],
   "source": [
    "import numpy\n",
    "\n",
    "dim = tuple(map(int, input().split()))\n",
    "print(numpy.zeros(dim, dtype=int))\n",
    "print(numpy.ones(dim, dtype=int))"
   ]
  },
  {
   "cell_type": "markdown",
   "id": "ef0d13a7-9c11-43a0-8d04-079f6294cc86",
   "metadata": {},
   "source": [
    "### 6. Eye and Identity"
   ]
  },
  {
   "cell_type": "code",
   "execution_count": null,
   "id": "cf818e2d-27e5-4641-91c6-e84732b9da51",
   "metadata": {},
   "outputs": [],
   "source": [
    "import numpy\n",
    "numpy.set_printoptions(legacy='1.13')\n",
    "\n",
    "N, M = map(int,input().split())\n",
    "\n",
    "print(numpy.eye(N, M, k=0))\n"
   ]
  },
  {
   "cell_type": "markdown",
   "id": "cb828c15-ec7d-4df0-8013-18738e587d55",
   "metadata": {},
   "source": [
    "### 7. Array Mathematics"
   ]
  },
  {
   "cell_type": "code",
   "execution_count": null,
   "id": "e00102ba-e16b-4f14-82c4-c2fb1a936890",
   "metadata": {},
   "outputs": [],
   "source": [
    "import numpy\n",
    "\n",
    "N, M = map(int, input().split())\n",
    "\n",
    "arr1 = list()\n",
    "arr2 = list()\n",
    "\n",
    "for i in range(N):\n",
    "    arr1.append(list(map(int, input().split())))\n",
    "arr1 = numpy.array(arr1)\n",
    "\n",
    "for i in range(N):\n",
    "    arr2.append(list(map(int, input().split())))\n",
    "arr2 = numpy.array(arr2)\n",
    "\n",
    "print(arr1+arr2)\n",
    "print(arr1-arr2)\n",
    "print(arr1*arr2)\n",
    "print(arr1//arr2)\n",
    "print(arr1%arr2)\n",
    "print(arr1**arr2)"
   ]
  },
  {
   "cell_type": "markdown",
   "id": "71ede6ee-ee85-4189-be7d-77eb433ba224",
   "metadata": {},
   "source": [
    "### 8. Floor, Ceil and Rint"
   ]
  },
  {
   "cell_type": "code",
   "execution_count": null,
   "id": "6b1dfa58-5bf6-402e-8b09-3d6cb705fd18",
   "metadata": {},
   "outputs": [],
   "source": [
    "import numpy\n",
    "numpy.set_printoptions(legacy='1.13')\n",
    "\n",
    "arr = list(map(float,input().split()))\n",
    "arr = numpy.array(arr, dtype=float) \n",
    "\n",
    "print(numpy.floor(arr))\n",
    "print(numpy.ceil(arr))\n",
    "print(numpy.rint(arr))"
   ]
  },
  {
   "cell_type": "markdown",
   "id": "e7164c37-3056-411f-9ee1-fc2a2ab5a762",
   "metadata": {},
   "source": [
    "### 9. Sum and Prod"
   ]
  },
  {
   "cell_type": "code",
   "execution_count": null,
   "id": "025f6657-689f-4f44-9e56-dd626c3c32c8",
   "metadata": {},
   "outputs": [],
   "source": [
    "import numpy\n",
    "\n",
    "N, M = map(int, input().split())\n",
    "\n",
    "arr=list()\n",
    "for i in range(N):\n",
    "    arr.append(list(map(int, input().split())))\n",
    "arr = numpy.array(arr)\n",
    "\n",
    "arrSum = numpy.sum(arr, axis=0)\n",
    "arrProd = numpy.prod(arrSum)\n",
    "\n",
    "print(arrProd)"
   ]
  },
  {
   "cell_type": "markdown",
   "id": "aee773e7-0a84-4723-8f78-0239bae18efe",
   "metadata": {},
   "source": [
    "### 10. Min and Max"
   ]
  },
  {
   "cell_type": "code",
   "execution_count": null,
   "id": "696cbd63-0905-4867-b21a-3bdb745d780f",
   "metadata": {},
   "outputs": [],
   "source": [
    "import numpy\n",
    "\n",
    "N, M = map(int, input().split())\n",
    "\n",
    "arr = list()\n",
    "for i in range(N):\n",
    "    arr.append(list(map(int, input().split())))\n",
    "arr=numpy.array(arr)\n",
    "\n",
    "minArr = numpy.min(arr, axis=1)\n",
    "maxArr = numpy.max(minArr)\n",
    "\n",
    "print(maxArr)"
   ]
  },
  {
   "cell_type": "markdown",
   "id": "209d36f5-c1c4-4db7-9f1a-53656409b26c",
   "metadata": {},
   "source": [
    "### 11. Mean, Var, and Std"
   ]
  },
  {
   "cell_type": "code",
   "execution_count": null,
   "id": "b48a2ca1-985b-432d-877b-1c821b34594a",
   "metadata": {},
   "outputs": [],
   "source": [
    "import numpy\n",
    "\n",
    "N, M = map(int, input().split())\n",
    "\n",
    "arr = list()\n",
    "for i in range(N):\n",
    "    arr.append(list(map(int, input().split())))\n",
    "arr=numpy.array(arr)\n",
    "\n",
    "print(numpy.mean(arr, axis=1))\n",
    "print(numpy.var(arr, axis=0))\n",
    "print(round(numpy.std(arr, axis=None),11))"
   ]
  },
  {
   "cell_type": "markdown",
   "id": "267320d7-ac5e-41c7-8bcd-8dd4b7e149ac",
   "metadata": {},
   "source": [
    "### 12. Dot and Cross"
   ]
  },
  {
   "cell_type": "code",
   "execution_count": null,
   "id": "254d2ab2-baf1-4900-95fc-540c6325ff5c",
   "metadata": {},
   "outputs": [],
   "source": [
    "import numpy\n",
    "\n",
    "N = int(input())\n",
    "\n",
    "matrix1 = list()\n",
    "for i in range(N):\n",
    "    matrix1.append(list(map(int, input().split())))\n",
    "matrix1=numpy.array(matrix1)\n",
    "\n",
    "matrix2 = list()\n",
    "for i in range(N):\n",
    "    matrix2.append(list(map(int, input().split())))\n",
    "matrix2=numpy.array(matrix2)\n",
    "\n",
    "print(numpy.dot(matrix1, matrix2))"
   ]
  },
  {
   "cell_type": "markdown",
   "id": "20fb0582-fd90-4828-b88c-5fa54aefc7cf",
   "metadata": {},
   "source": [
    "### 13. Inner and Outer"
   ]
  },
  {
   "cell_type": "code",
   "execution_count": null,
   "id": "413e94e6-5385-4d62-8708-282b9804dbd9",
   "metadata": {},
   "outputs": [],
   "source": [
    "import numpy\n",
    "\n",
    "arr1 = numpy.array(list(map(int, input().split())))\n",
    "arr2 = numpy.array(list(map(int, input().split())))\n",
    "\n",
    "print(numpy.inner(arr1,arr2))\n",
    "print(numpy.outer(arr1,arr2))"
   ]
  },
  {
   "cell_type": "markdown",
   "id": "f4daac9f-48c3-4e15-bc3f-ca85a9af916a",
   "metadata": {},
   "source": [
    "### 14. Polynomials"
   ]
  },
  {
   "cell_type": "code",
   "execution_count": null,
   "id": "dac69691-d0aa-4669-a879-fe16a02eb4ee",
   "metadata": {},
   "outputs": [],
   "source": [
    "import numpy\n",
    "\n",
    "plynm = list(map(float, input().split()))\n",
    "x = float(input())\n",
    "\n",
    "ans = numpy.polyval(plynm, x)\n",
    "print(ans)"
   ]
  },
  {
   "cell_type": "markdown",
   "id": "019b77a8-ed73-4c1c-84fc-7d4db3a4d7c3",
   "metadata": {},
   "source": [
    "### 15. Linear Algebra"
   ]
  },
  {
   "cell_type": "code",
   "execution_count": null,
   "id": "cf1496fd-30ba-49bc-ae33-7e65a88c7d34",
   "metadata": {},
   "outputs": [],
   "source": [
    "import numpy\n",
    "\n",
    "N = int(input())\n",
    "\n",
    "matrix = list()\n",
    "for i in range(N):\n",
    "    matrix.append(list(map(float, input().split())))\n",
    "matrix = numpy.array(matrix)\n",
    "\n",
    "print(round(numpy.linalg.det(matrix), 2))"
   ]
  },
  {
   "cell_type": "markdown",
   "id": "2ec2f514-c380-4a08-81ed-86566f320df5",
   "metadata": {},
   "source": [
    "# Problem 2"
   ]
  },
  {
   "cell_type": "markdown",
   "id": "6fc6e4de-baf7-4213-8cf1-2072ada5afd6",
   "metadata": {},
   "source": [
    "### 1. Birthday Cake Candles"
   ]
  },
  {
   "cell_type": "code",
   "execution_count": null,
   "id": "cdaf7c13-5240-4f85-a329-e03c4924f392",
   "metadata": {},
   "outputs": [],
   "source": [
    "#!/bin/python3\n",
    "\n",
    "import math\n",
    "import os\n",
    "import random\n",
    "import re\n",
    "import sys\n",
    "\n",
    "def birthdayCakeCandles(candles):\n",
    "    cnt=0\n",
    "    tallest_candle = max(candles)\n",
    "    for i in range(len(candles)):\n",
    "        if candles[i] == tallest_candle:\n",
    "            cnt+=1\n",
    "    return cnt\n",
    "\n",
    "if __name__ == '__main__':\n",
    "    fptr = open(os.environ['OUTPUT_PATH'], 'w')\n",
    "    candles_count = int(input().strip())\n",
    "    candles = list(map(int, input().rstrip().split()))\n",
    "    result = birthdayCakeCandles(candles)\n",
    "    fptr.write(str(result) + '\\n')\n",
    "    fptr.close()"
   ]
  },
  {
   "cell_type": "markdown",
   "id": "178211a3-2b04-413e-85a9-fecd9811f735",
   "metadata": {},
   "source": [
    "### 2. Number Line Jumps"
   ]
  },
  {
   "cell_type": "code",
   "execution_count": null,
   "id": "02ae7b60-9414-4d89-a8a6-b4db17596319",
   "metadata": {},
   "outputs": [],
   "source": [
    "#!/bin/python3\n",
    "\n",
    "import math\n",
    "import os\n",
    "import random\n",
    "import re\n",
    "import sys\n",
    "\n",
    "def kangaroo(x1, v1, x2, v2):\n",
    "    N = 10000\n",
    "    ans = 'NO'\n",
    "    if (x2 > x1 and v2 > v1) or (x1 > x2 and v1 > v2) or (x1 != x2 and v1 == v2):\n",
    "        return ans\n",
    "    for i in range(N):\n",
    "        if x1 + v1 == x2 + v2:\n",
    "            ans = 'YES'\n",
    "            break\n",
    "        x1 += v1\n",
    "        x2 += v2\n",
    "    return ans\n",
    "\n",
    "if __name__ == '__main__':\n",
    "    fptr = open(os.environ['OUTPUT_PATH'], 'w')\n",
    "    first_multiple_input = input().rstrip().split()\n",
    "    x1 = int(first_multiple_input[0])\n",
    "    v1 = int(first_multiple_input[1])\n",
    "    x2 = int(first_multiple_input[2])\n",
    "    v2 = int(first_multiple_input[3])\n",
    "    result = kangaroo(x1, v1, x2, v2)\n",
    "    fptr.write(result + '\\n')\n",
    "    fptr.close()"
   ]
  },
  {
   "cell_type": "markdown",
   "id": "e4cda59d-9919-4dc9-a0da-583c3ff1e27b",
   "metadata": {},
   "source": [
    "### 3. Viral Advertising"
   ]
  },
  {
   "cell_type": "code",
   "execution_count": null,
   "id": "80416931-c3ca-4568-93ab-6d39a2d6dd08",
   "metadata": {},
   "outputs": [],
   "source": [
    "#!/bin/python3\n",
    "\n",
    "import math\n",
    "import os\n",
    "import random\n",
    "import re\n",
    "import sys\n",
    "\n",
    "def viralAdvertising(n):\n",
    "    shared = 5\n",
    "    cumul = 0\n",
    "    for i in range(n):\n",
    "        liked = shared//2\n",
    "        cumul += liked\n",
    "        shared = liked*3\n",
    "    return cumul\n",
    "    \n",
    "if __name__ == '__main__':\n",
    "    fptr = open(os.environ['OUTPUT_PATH'], 'w')\n",
    "    n = int(input().strip())\n",
    "    result = viralAdvertising(n)\n",
    "    fptr.write(str(result) + '\\n')\n",
    "    fptr.close()"
   ]
  },
  {
   "cell_type": "markdown",
   "id": "f55b91e7-2d45-4d09-8e1e-8a4fc66e5708",
   "metadata": {},
   "source": [
    "### 4. Recursive Digit Sum"
   ]
  },
  {
   "cell_type": "code",
   "execution_count": null,
   "id": "c26d9189-17a8-40ab-8a4b-afd0092207ba",
   "metadata": {},
   "outputs": [],
   "source": [
    "#!/bin/python3\n",
    "\n",
    "import math\n",
    "import os\n",
    "import random\n",
    "import re\n",
    "import sys\n",
    "\n",
    "def superDigit(n, k):\n",
    "    \n",
    "    def recursiveFunc(value):\n",
    "        tot = 0\n",
    "        for i in value:\n",
    "            tot += int(i)\n",
    "        tot = str(tot)\n",
    "        \n",
    "        if len(tot) == 1:\n",
    "            return tot\n",
    "        else:\n",
    "            return recursiveFunc(tot)\n",
    "    \n",
    "    P = (recursiveFunc(n) * k)    \n",
    "    return recursiveFunc(P)\n",
    "\n",
    "if __name__ == '__main__':\n",
    "    fptr = open(os.environ['OUTPUT_PATH'], 'w')\n",
    "    first_multiple_input = input().rstrip().split()\n",
    "    n = first_multiple_input[0]\n",
    "    k = int(first_multiple_input[1])\n",
    "    result = superDigit(n, k)\n",
    "    fptr.write(str(result) + '\\n')\n",
    "    fptr.close()"
   ]
  },
  {
   "cell_type": "markdown",
   "id": "f89f7628-e789-463b-bd7d-2de0db30073c",
   "metadata": {},
   "source": [
    "### 5. Insertion Sort - Part 1"
   ]
  },
  {
   "cell_type": "code",
   "execution_count": null,
   "id": "73b8b822-5e7e-44dc-81cb-02d3b5c6b9b0",
   "metadata": {},
   "outputs": [],
   "source": [
    "#!/bin/python3\n",
    "\n",
    "import math\n",
    "import os\n",
    "import random\n",
    "import re\n",
    "import sys\n",
    "\n",
    "def insertionSort1(n, arr):\n",
    "    temp = arr[n-1]\n",
    "    \n",
    "    for i in reversed(range(0, n-1)):\n",
    "        if arr[i] > temp:\n",
    "            arr[i+1] = arr[i]\n",
    "            print(' '.join(map(str, arr)))\n",
    "        else:\n",
    "            arr[i+1] = temp\n",
    "            print(' '.join(map(str, arr)))\n",
    "            return\n",
    "            \n",
    "    arr[0] = temp\n",
    "    print(' '.join(map(str, arr)))\n",
    "        \n",
    "\n",
    "if __name__ == '__main__':\n",
    "    n = int(input().strip())\n",
    "    arr = list(map(int, input().rstrip().split()))\n",
    "    insertionSort1(n, arr)"
   ]
  },
  {
   "cell_type": "markdown",
   "id": "91f9cb36-d29e-463c-99ac-13ce4ae45a82",
   "metadata": {},
   "source": [
    "### 6. Insertion Sort - Part 2"
   ]
  },
  {
   "cell_type": "code",
   "execution_count": null,
   "id": "dd2d1a96-ac5b-41f4-98d8-2ae947e8a247",
   "metadata": {},
   "outputs": [],
   "source": [
    "#!/bin/python3\n",
    "\n",
    "import math\n",
    "import os\n",
    "import random\n",
    "import re\n",
    "import sys\n",
    "\n",
    "def insertionSort2(n, arr):\n",
    "    for i in range(1, n):\n",
    "        temp = arr[i]\n",
    "        j = i-1\n",
    "\n",
    "        while j >= 0 and temp <= arr[j]:\n",
    "            arr[j+1] = arr[j]\n",
    "            j -= 1\n",
    "\n",
    "        arr[j+1] = temp\n",
    "        print(*arr)\n",
    "\n",
    "if __name__ == '__main__':\n",
    "    n = int(input().strip())\n",
    "    arr = list(map(int, input().rstrip().split()))\n",
    "    insertionSort2(n, arr)"
   ]
  }
 ],
 "metadata": {
  "kernelspec": {
   "display_name": "Python 3 (ipykernel)",
   "language": "python",
   "name": "python3"
  },
  "language_info": {
   "codemirror_mode": {
    "name": "ipython",
    "version": 3
   },
   "file_extension": ".py",
   "mimetype": "text/x-python",
   "name": "python",
   "nbconvert_exporter": "python",
   "pygments_lexer": "ipython3",
   "version": "3.12.7"
  }
 },
 "nbformat": 4,
 "nbformat_minor": 5
}
